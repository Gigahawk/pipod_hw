{
 "cells": [
  {
   "cell_type": "markdown",
   "id": "6f0cf2a3-0c4f-43a3-a19c-7a4e4d916704",
   "metadata": {},
   "source": [
    "We will be using the BQ29728 for battery protection:\n",
    "\n",
    "https://www.digikey.ca/en/products/detail/texas-instruments/BQ29728DSER/15856684\n",
    "\n",
    "The overcurrent protection comes from measuring the voltage across the external MOSFETs.\n",
    "When this voltage exceeds 0.15V when discharging for more than 8ms, the protection IC will cut off the battery outputs.\n",
    "\n",
    "Let's calculate the resistance needed to allow the battery to source the desired amount of current."
   ]
  },
  {
   "cell_type": "code",
   "execution_count": 11,
   "id": "eccd10f8-8ef3-4b47-8086-15e302e492ed",
   "metadata": {},
   "outputs": [
    {
     "data": {
      "text/plain": [
       "0.075"
      ]
     },
     "execution_count": 11,
     "metadata": {},
     "output_type": "execute_result"
    }
   ],
   "source": [
    "I_desired = 2  # A\n",
    "V_ocd = 0.15  # V\n",
    "R_desired = V_ocd/I_desired  # ohm\n",
    "R_desired"
   ]
  },
  {
   "cell_type": "markdown",
   "id": "ca0b68d1-06c9-434c-a1be-713bb98887cd",
   "metadata": {},
   "source": [
    "We can use the DMG9926UDM-7 dual NMOS as our external MOSFETs:\n",
    "\n",
    "https://www.digikey.ca/en/products/detail/diodes-incorporated/DMG9926UDM-7/2095651\n",
    "\n",
    "The BQ297xy drives the gates of the external NMOS using the battery voltage.\n",
    "If we assume ~3.7V, we will probably have an Rds(on) of approximately 30mOhm, which in total would be 60mOhm, reasonably close to our desired 75mOhm."
   ]
  },
  {
   "cell_type": "code",
   "execution_count": null,
   "id": "c61c6cbb-ce08-4d05-b5f1-76fc6a506776",
   "metadata": {},
   "outputs": [],
   "source": []
  }
 ],
 "metadata": {
  "kernelspec": {
   "display_name": "Python 3 (ipykernel)",
   "language": "python",
   "name": "python3"
  },
  "language_info": {
   "codemirror_mode": {
    "name": "ipython",
    "version": 3
   },
   "file_extension": ".py",
   "mimetype": "text/x-python",
   "name": "python",
   "nbconvert_exporter": "python",
   "pygments_lexer": "ipython3",
   "version": "3.10.6"
  }
 },
 "nbformat": 4,
 "nbformat_minor": 5
}
