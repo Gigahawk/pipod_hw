{
 "cells": [
  {
   "cell_type": "code",
   "execution_count": 2,
   "id": "63fa9d9a-f1bf-4345-afd2-467cf06fa572",
   "metadata": {},
   "outputs": [],
   "source": [
    "import numpy as np\n",
    "import decimal"
   ]
  },
  {
   "cell_type": "markdown",
   "id": "bcbe0d75-b7e2-4486-bdfc-2f5051f00e04",
   "metadata": {},
   "source": [
    "Since we are regulating a single LiPo cell (4.2V to 3.2V-ish), down to 3.4V, it's actually not that bad of an idea to just use a LDO.\n",
    "\n",
    "Finding our worst case efficiency (https://toshiba.semicon-storage.com/eu/semiconductor/knowledge/e-learning/basics-of-low-dropout-ldo-regulators/chap4/chap4-1.html)"
   ]
  },
  {
   "cell_type": "code",
   "execution_count": 3,
   "id": "6e1aa6c6-1e2b-4af6-83c7-8e2ec9ed1018",
   "metadata": {},
   "outputs": [
    {
     "data": {
      "text/plain": [
       "0.8095238095238094"
      ]
     },
     "execution_count": 3,
     "metadata": {},
     "output_type": "execute_result"
    }
   ],
   "source": [
    "V_out = 3.4\n",
    "V_in_max = 4.2\n",
    "\n",
    "eff = V_out/V_in_max\n",
    "eff"
   ]
  },
  {
   "cell_type": "markdown",
   "id": "bcbafc49-1255-46f2-ab57-f8160440a0ba",
   "metadata": {},
   "source": [
    "Even accounting for other losses through the LDO we probably end up with more than 75% efficiency in the worst case.\n",
    "\n",
    "The LDO will power most of the peripherals other than the Pi.\n",
    "This includes:\n",
    "- RP2040 (~55mA)\n",
    "- QSPI flash (~25mA)\n",
    "- Clickwheel (???mA)\n",
    "- Audio DAC (~32mA)\n",
    "- Audio Amp (~25mA)\n",
    "- Display (~100mA)\n",
    "- GPIO expander (max 125mA)\n",
    "\n",
    "This leaves us with an approximate total power consumption in the range of 300mA during typical operation.\n",
    "For safety factor, we will target an LDO capable of sourcing 500mA, preferably with less than 200mV dropout.\n",
    "\n",
    "Some options:\n",
    "- https://lcsc.com/product-detail/Linear-Voltage-Regulators-LDO_HEERMICR-HE9073A33MR_C723793.html\n",
    "    - Not currently in stock\n",
    "- https://lcsc.com/product-detail/Linear-Voltage-Regulators-LDO_Torex-Semicon-XC6210B332PR-G_C484291.html\n",
    "\n",
    "\n",
    "**Below is code for setting values on the Techcode Semicon TD5830B, which is no longer used**\n",
    "\n",
    "https://lcsc.com/product-detail/Linear-Voltage-Regulators-LDO_Techcode-Semicon-TD5830B_C232922.html\n",
    "\n",
    "The formula to set $V_o$ is:\n",
    "$$V_o = 0.8\\text{V} \\left(1 + \\frac{R_1}{R_2}\\right)$$\n",
    "\n",
    "Let's bruteforce some values to calculate appropriate resistor values."
   ]
  },
  {
   "cell_type": "code",
   "execution_count": 4,
   "id": "a5119b94-bc25-4d2a-a589-ae46cb1cffa4",
   "metadata": {},
   "outputs": [
    {
     "name": "stdout",
     "output_type": "stream",
     "text": [
      "R_1: 1000.00, R_2: 1000.00, V_o: 1.6000\n",
      "R_1: 1050.00, R_2: 1000.00, V_o: 1.6400\n",
      "R_1: 1100.00, R_2: 1000.00, V_o: 1.6800\n",
      "R_1: 1150.00, R_2: 1000.00, V_o: 1.7200\n",
      "R_1: 1210.00, R_2: 1000.00, V_o: 1.7680\n",
      "R_1: 1270.00, R_2: 1000.00, V_o: 1.8160\n",
      "R_1: 1330.00, R_2: 1000.00, V_o: 1.8640\n",
      "R_1: 1400.00, R_2: 1000.00, V_o: 1.9200\n",
      "R_1: 1470.00, R_2: 1000.00, V_o: 1.9760\n",
      "R_1: 1540.00, R_2: 1000.00, V_o: 2.0320\n",
      "R_1: 1620.00, R_2: 1000.00, V_o: 2.0960\n",
      "R_1: 1690.00, R_2: 1000.00, V_o: 2.1520\n",
      "R_1: 1780.00, R_2: 1000.00, V_o: 2.2240\n",
      "R_1: 1870.00, R_2: 1000.00, V_o: 2.2960\n",
      "R_1: 1960.00, R_2: 1000.00, V_o: 2.3680\n",
      "R_1: 2050.00, R_2: 1000.00, V_o: 2.4400\n",
      "R_1: 2150.00, R_2: 1000.00, V_o: 2.5200\n",
      "R_1: 2260.00, R_2: 1000.00, V_o: 2.6080\n",
      "R_1: 2370.00, R_2: 1000.00, V_o: 2.6960\n",
      "R_1: 2490.00, R_2: 1000.00, V_o: 2.7920\n",
      "R_1: 2610.00, R_2: 1000.00, V_o: 2.8880\n",
      "R_1: 2740.00, R_2: 1000.00, V_o: 2.9920\n",
      "R_1: 2870.00, R_2: 1000.00, V_o: 3.0960\n",
      "R_1: 3010.00, R_2: 1000.00, V_o: 3.2080\n",
      "R_1: 3160.00, R_2: 1000.00, V_o: 3.3280\n",
      "R_1: 3320.00, R_2: 1000.00, V_o: 3.4560\n",
      "R_1: 3320.00, R_2: 1050.00, V_o: 3.3295\n",
      "R_1: 3480.00, R_2: 1050.00, V_o: 3.4514\n",
      "R_1: 3480.00, R_2: 1100.00, V_o: 3.3309\n",
      "R_1: 3650.00, R_2: 1100.00, V_o: 3.4545\n",
      "R_1: 3650.00, R_2: 1150.00, V_o: 3.3391\n",
      "R_1: 3830.00, R_2: 1150.00, V_o: 3.4643\n",
      "R_1: 3830.00, R_2: 1210.00, V_o: 3.3322\n",
      "R_1: 4020.00, R_2: 1210.00, V_o: 3.4579\n",
      "R_1: 4020.00, R_2: 1270.00, V_o: 3.3323\n",
      "R_1: 4220.00, R_2: 1270.00, V_o: 3.4583\n",
      "R_1: 4220.00, R_2: 1330.00, V_o: 3.3383\n",
      "R_1: 4420.00, R_2: 1330.00, V_o: 3.4586\n",
      "R_1: 4420.00, R_2: 1400.00, V_o: 3.3257\n",
      "R_1: 4640.00, R_2: 1400.00, V_o: 3.4514\n",
      "R_1: 4640.00, R_2: 1470.00, V_o: 3.3252\n",
      "R_1: 4870.00, R_2: 1470.00, V_o: 3.4503\n",
      "R_1: 4870.00, R_2: 1540.00, V_o: 3.3299\n",
      "R_1: 5110.00, R_2: 1540.00, V_o: 3.4545\n",
      "R_1: 5110.00, R_2: 1620.00, V_o: 3.3235\n",
      "R_1: 5360.00, R_2: 1620.00, V_o: 3.4469\n"
     ]
    }
   ],
   "source": [
    "I_adj = 100e-6  # A, Typical value from datasheet\n",
    "tol = 50e-3 # V, tolerance for brute force calc\n",
    "\n",
    "# https://en.wikipedia.org/wiki/E_series_of_preferred_numbers#E24_vs._E48,_E96,_E192\n",
    "def V_n(m=48):\n",
    "    if m >= 48:\n",
    "        sig_figs = 3\n",
    "    else:\n",
    "        sig_figs = 2\n",
    "    n = np.arange(0, m)\n",
    "    return np.around(10**(n/m), decimals=sig_figs - 1)\n",
    "R_vals = V_n(48)\n",
    "\n",
    "def V_o(R_1, R_2):\n",
    "    return 0.8*(1 + R_1/R_2)\n",
    "\n",
    "r1_idx = 0\n",
    "r2_idx = 0\n",
    "r1_mag = 1000\n",
    "r2_mag = 1000\n",
    "r1 = R_vals[r1_idx]*r1_mag\n",
    "r2 = R_vals[r2_idx]*r2_mag\n",
    "\n",
    "while True:\n",
    "    r1 = R_vals[r1_idx]*r1_mag\n",
    "    r2 = R_vals[r2_idx]*r2_mag\n",
    "    v_o = V_o(r1, r2)\n",
    "    print(f\"R_1: {r1:.2f}, R_2: {r2:.2f}, V_o: {v_o:.4f}\")\n",
    "    if abs(v_o - V_out) < tol:\n",
    "        break\n",
    "    if v_o < V_out:\n",
    "        r1_idx += 1\n",
    "        if r1_idx >= len(R_vals):\n",
    "            r1_idx = 0\n",
    "            r1_mag *= 10\n",
    "    else:\n",
    "        r2_idx += 1\n",
    "        if r2_idx >= len(R_vals):\n",
    "            r2_idx = 0\n",
    "            r2_mag *= 10\n"
   ]
  },
  {
   "cell_type": "code",
   "execution_count": 5,
   "id": "81253de5-de98-4b84-a533-efd8017e99db",
   "metadata": {},
   "outputs": [
    {
     "data": {
      "text/plain": [
       "('5.36E+3', '1.62E+3')"
      ]
     },
     "execution_count": 5,
     "metadata": {},
     "output_type": "execute_result"
    }
   ],
   "source": [
    "# Print values as engineering notation\n",
    "decimal.Decimal(r1).normalize().to_eng_string(), decimal.Decimal(r2).normalize().to_eng_string()"
   ]
  },
  {
   "cell_type": "code",
   "execution_count": null,
   "id": "21c42739-ab47-43fc-9917-facae164a621",
   "metadata": {},
   "outputs": [],
   "source": []
  }
 ],
 "metadata": {
  "kernelspec": {
   "display_name": "Python 3 (ipykernel)",
   "language": "python",
   "name": "python3"
  },
  "language_info": {
   "codemirror_mode": {
    "name": "ipython",
    "version": 3
   },
   "file_extension": ".py",
   "mimetype": "text/x-python",
   "name": "python",
   "nbconvert_exporter": "python",
   "pygments_lexer": "ipython3",
   "version": "3.9.5"
  }
 },
 "nbformat": 4,
 "nbformat_minor": 5
}
